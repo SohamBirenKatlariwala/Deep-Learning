{
  "nbformat": 4,
  "nbformat_minor": 0,
  "metadata": {
    "colab": {
      "provenance": [],
      "gpuType": "T4"
    },
    "kernelspec": {
      "name": "python3",
      "display_name": "Python 3"
    },
    "language_info": {
      "name": "python"
    },
    "accelerator": "GPU"
  },
  "cells": [
    {
      "cell_type": "code",
      "execution_count": 6,
      "metadata": {
        "colab": {
          "base_uri": "https://localhost:8080/"
        },
        "id": "oyyiukkdTRIn",
        "outputId": "2cbf9a98-fb86-40a4-d9bb-358a5c53ab9f"
      },
      "outputs": [
        {
          "output_type": "stream",
          "name": "stdout",
          "text": [
            "Requirement already satisfied: tensorflow-model-optimization in /usr/local/lib/python3.11/dist-packages (0.8.0)\n",
            "Requirement already satisfied: absl-py~=1.2 in /usr/local/lib/python3.11/dist-packages (from tensorflow-model-optimization) (1.4.0)\n",
            "Requirement already satisfied: dm-tree~=0.1.1 in /usr/local/lib/python3.11/dist-packages (from tensorflow-model-optimization) (0.1.9)\n",
            "Requirement already satisfied: numpy~=1.23 in /usr/local/lib/python3.11/dist-packages (from tensorflow-model-optimization) (1.26.4)\n",
            "Requirement already satisfied: six~=1.14 in /usr/local/lib/python3.11/dist-packages (from tensorflow-model-optimization) (1.17.0)\n",
            "Requirement already satisfied: attrs>=18.2.0 in /usr/local/lib/python3.11/dist-packages (from dm-tree~=0.1.1->tensorflow-model-optimization) (25.1.0)\n",
            "Requirement already satisfied: wrapt>=1.11.2 in /usr/local/lib/python3.11/dist-packages (from dm-tree~=0.1.1->tensorflow-model-optimization) (1.17.2)\n",
            "Epoch 1/5\n",
            "92/92 [==============================] - 11s 86ms/step - loss: 0.5622 - accuracy: 0.7990 - val_loss: 0.3303 - val_accuracy: 0.8856\n",
            "Epoch 2/5\n",
            "92/92 [==============================] - 5s 50ms/step - loss: 0.2632 - accuracy: 0.9101 - val_loss: 0.3329 - val_accuracy: 0.8978\n",
            "Epoch 3/5\n",
            "92/92 [==============================] - 4s 47ms/step - loss: 0.1649 - accuracy: 0.9489 - val_loss: 0.3777 - val_accuracy: 0.8856\n",
            "Epoch 4/5\n",
            "92/92 [==============================] - 4s 45ms/step - loss: 0.1157 - accuracy: 0.9697 - val_loss: 0.4537 - val_accuracy: 0.8638\n",
            "Epoch 5/5\n",
            "92/92 [==============================] - 4s 45ms/step - loss: 0.0931 - accuracy: 0.9751 - val_loss: 0.3721 - val_accuracy: 0.8992\n",
            "Epoch 1/3\n",
            "92/92 [==============================] - 44s 121ms/step - loss: 0.0761 - accuracy: 0.9782 - val_loss: 0.4312 - val_accuracy: 0.8869\n",
            "Epoch 2/3\n",
            "92/92 [==============================] - 9s 101ms/step - loss: 0.5948 - accuracy: 0.7871 - val_loss: 0.4624 - val_accuracy: 0.8311\n",
            "Epoch 3/3\n",
            "92/92 [==============================] - 9s 100ms/step - loss: 1.0029 - accuracy: 0.6148 - val_loss: 0.8545 - val_accuracy: 0.6839\n",
            "23/23 [==============================] - 2s 38ms/step - loss: 0.8545 - accuracy: 0.6839\n",
            "Pruned model accuracy: 0.6839\n"
          ]
        }
      ],
      "source": [
        "!pip install tensorflow-model-optimization\n",
        "\n",
        "import tensorflow as tf\n",
        "import tensorflow_datasets as tfds\n",
        "import tensorflow_model_optimization as tfmot\n",
        "import numpy as np\n",
        "\n",
        "# Load the tf_flowers dataset\n",
        "dataset_name = \"tf_flowers\"\n",
        "(ds_train, ds_test), ds_info = tfds.load(dataset_name, split=[\"train[:80%]\", \"train[80%:]\"], as_supervised=True, with_info=True)\n",
        "\n",
        "# Preprocessing function\n",
        "IMG_SIZE = 224\n",
        "\n",
        "def preprocess(image, label):\n",
        "    image = tf.image.resize(image, (IMG_SIZE, IMG_SIZE)) / 255.0\n",
        "    return image, label\n",
        "\n",
        "ds_train = ds_train.map(preprocess).batch(32).prefetch(tf.data.AUTOTUNE)\n",
        "ds_test = ds_test.map(preprocess).batch(32).prefetch(tf.data.AUTOTUNE)\n",
        "\n",
        "# Define a simple CNN model\n",
        "base_model = tf.keras.applications.MobileNetV2(input_shape=(IMG_SIZE, IMG_SIZE, 3), include_top=False, weights='imagenet')\n",
        "base_model.trainable = False  # Freeze base model\n",
        "\n",
        "model = tf.keras.Sequential([\n",
        "    base_model,\n",
        "    tf.keras.layers.GlobalAveragePooling2D(),\n",
        "    tf.keras.layers.Dense(128, activation=\"relu\"),\n",
        "    tf.keras.layers.Dense(ds_info.features[\"label\"].num_classes, activation=\"softmax\")\n",
        "])\n",
        "\n",
        "# Compile the model\n",
        "model.compile(optimizer=\"adam\", loss=\"sparse_categorical_crossentropy\", metrics=[\"accuracy\"])\n",
        "\n",
        "# Train the model\n",
        "model.fit(ds_train, epochs=5, validation_data=ds_test)\n",
        "\n",
        "# Apply Magnitude-Based Pruning\n",
        "prune_low_magnitude = tfmot.sparsity.keras.prune_low_magnitude\n",
        "\n",
        "pruning_params = {\n",
        "    \"pruning_schedule\": tfmot.sparsity.keras.PolynomialDecay(initial_sparsity=0.2, final_sparsity=0.8, begin_step=0, end_step=1000),\n",
        "}\n",
        "\n",
        "pruned_model = prune_low_magnitude(model, **pruning_params)\n",
        "\n",
        "# Compile the pruned model\n",
        "pruned_model.compile(optimizer=\"adam\", loss=\"sparse_categorical_crossentropy\", metrics=[\"accuracy\"])\n",
        "\n",
        "# Train the pruned model for fine-tuning\n",
        "pruned_model.fit(ds_train, epochs=3, validation_data=ds_test, callbacks=[tfmot.sparsity.keras.UpdatePruningStep()])\n",
        "\n",
        "# Strip pruning for deployment\n",
        "pruned_model = tfmot.sparsity.keras.strip_pruning(pruned_model)\n",
        "\n",
        "# Compile the stripped model again before evaluation\n",
        "pruned_model.compile(optimizer=\"adam\", loss=\"sparse_categorical_crossentropy\", metrics=[\"accuracy\"]) # Re-compile the stripped model\n",
        "\n",
        "# Evaluate the pruned model\n",
        "loss, acc = pruned_model.evaluate(ds_test)\n",
        "print(f\"Pruned model accuracy: {acc:.4f}\")\n"
      ]
    }
  ]
}