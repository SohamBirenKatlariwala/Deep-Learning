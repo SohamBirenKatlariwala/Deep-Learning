{
  "nbformat": 4,
  "nbformat_minor": 0,
  "metadata": {
    "colab": {
      "provenance": [],
      "gpuType": "T4"
    },
    "kernelspec": {
      "name": "python3",
      "display_name": "Python 3"
    },
    "language_info": {
      "name": "python"
    },
    "accelerator": "GPU"
  },
  "cells": [
    {
      "cell_type": "code",
      "execution_count": 3,
      "metadata": {
        "colab": {
          "base_uri": "https://localhost:8080/"
        },
        "id": "ChKA_v8iwpFD",
        "outputId": "26f7e0c4-9fb1-4823-edd5-54cf2e4d710e"
      },
      "outputs": [
        {
          "metadata": {
            "tags": null
          },
          "name": "stdout",
          "output_type": "stream",
          "text": [
            "Downloading https://cdn-lfs.hf.co/repos/fc/1d/fc1dee780dee1dae2ad48856d0961ac6aa5dfcaaaa4fb3561be4aedf19b7ccc7/8ebea626349354c5328b142b96d0430e647051f26efc2dc974c843f25ecf70bd?response-content-disposition=inline%3B+filename*%3DUTF-8%27%27EuroSAT.zip%3B+filename%3D%22EuroSAT.zip%22%3B&response-content-type=application%2Fzip&Expires=1740384316&Policy=eyJTdGF0ZW1lbnQiOlt7IkNvbmRpdGlvbiI6eyJEYXRlTGVzc1RoYW4iOnsiQVdTOkVwb2NoVGltZSI6MTc0MDM4NDMxNn19LCJSZXNvdXJjZSI6Imh0dHBzOi8vY2RuLWxmcy5oZi5jby9yZXBvcy9mYy8xZC9mYzFkZWU3ODBkZWUxZGFlMmFkNDg4NTZkMDk2MWFjNmFhNWRmY2FhYWE0ZmIzNTYxYmU0YWVkZjE5YjdjY2M3LzhlYmVhNjI2MzQ5MzU0YzUzMjhiMTQyYjk2ZDA0MzBlNjQ3MDUxZjI2ZWZjMmRjOTc0Yzg0M2YyNWVjZjcwYmQ%7EcmVzcG9uc2UtY29udGVudC1kaXNwb3NpdGlvbj0qJnJlc3BvbnNlLWNvbnRlbnQtdHlwZT0qIn1dfQ__&Signature=i5cJ0LyP4JSVGdUKCeSnxlRxKcG1ggglcgCLxSqWaO72gBJIx6HHG9YpL8th1uaGmuNA70tP1WgdhbBqgs-ITOShp57ahbB-mtX-pd-xRJ5UoyzN-KkvNlanKKZ%7EDtWiXvne5gyc%7EqUEvqaE3VoafDUKbGZPYuhRdbY5hljeFfLotiTcKGGvCFeNhOhcgT6e6sr7PS0Zy3AXdEW3K1N2baiSvA%7ET2bnmrT1PKgiTpDFHmUKDT2eJIbzecq%7EGauQm1nITIeiV1E0eEGJ87HjK8Gsse0D4VNlnz3BKb-thqNVpORYttVqLODKeoK7rEDhFTdqt7zfrzoCgkfMLHtFTfw__&Key-Pair-Id=K3RPWS32NSSJCE to ./data/eurosat/EuroSAT.zip\n"
          ]
        },
        {
          "metadata": {
            "tags": null
          },
          "name": "stderr",
          "output_type": "stream",
          "text": [
            "100%|██████████| 94.3M/94.3M [00:00<00:00, 205MB/s]\n"
          ]
        },
        {
          "output_type": "stream",
          "name": "stdout",
          "text": [
            "Extracting ./data/eurosat/EuroSAT.zip to ./data/eurosat\n",
            "Training Base Model from Scratch...\n",
            "Epoch 1, Loss: 1.0067, Accuracy: 0.6485\n",
            "Epoch 2, Loss: 0.5260, Accuracy: 0.8225\n",
            "Epoch 3, Loss: 0.3638, Accuracy: 0.8784\n",
            "Epoch 4, Loss: 0.2880, Accuracy: 0.9039\n",
            "Epoch 5, Loss: 0.2403, Accuracy: 0.9184\n",
            "Epoch 6, Loss: 0.2027, Accuracy: 0.9333\n",
            "Epoch 7, Loss: 0.1862, Accuracy: 0.9364\n",
            "Epoch 8, Loss: 0.1593, Accuracy: 0.9461\n",
            "Epoch 9, Loss: 0.1511, Accuracy: 0.9494\n",
            "Epoch 10, Loss: 0.1306, Accuracy: 0.9562\n",
            "Applying Structured Pruning...\n",
            "Fine-tuning Pruned Model...\n",
            "Epoch 1, Loss: 0.5669, Accuracy: 0.8081\n",
            "Epoch 2, Loss: 0.2636, Accuracy: 0.9128\n",
            "Epoch 3, Loss: 0.2013, Accuracy: 0.9297\n",
            "Epoch 4, Loss: 0.1711, Accuracy: 0.9413\n",
            "Epoch 5, Loss: 0.1540, Accuracy: 0.9482\n",
            "Final Pruned Model Accuracy: 0.9526\n"
          ]
        }
      ],
      "source": [
        "import torch\n",
        "import torch.nn as nn\n",
        "import torch.nn.utils.prune as prune\n",
        "import torchvision.transforms as transforms\n",
        "import torchvision.models as models\n",
        "from torch.utils.data import DataLoader, random_split\n",
        "from torchvision.datasets import EuroSAT\n",
        "\n",
        "# Set device\n",
        "device = torch.device(\"cuda\" if torch.cuda.is_available() else \"cpu\")\n",
        "\n",
        "# Define dataset transformation\n",
        "transform = transforms.Compose([\n",
        "    transforms.Resize((224, 224)),  # Resize for EfficientNet\n",
        "    transforms.ToTensor(),\n",
        "    transforms.Normalize(mean=[0.485, 0.456, 0.406], std=[0.229, 0.224, 0.225])\n",
        "])\n",
        "\n",
        "# Automatically download and load EuroSAT RGB dataset\n",
        "dataset = EuroSAT(root=\"./data\", transform=transform, download=True)\n",
        "\n",
        "# Split dataset (80% train, 20% validation)\n",
        "train_size = int(0.8 * len(dataset))\n",
        "val_size = len(dataset) - train_size\n",
        "train_dataset, val_dataset = random_split(dataset, [train_size, val_size])\n",
        "\n",
        "train_loader = DataLoader(train_dataset, batch_size=32, shuffle=True)\n",
        "val_loader = DataLoader(val_dataset, batch_size=32, shuffle=False)\n",
        "\n",
        "# Load EfficientNet-B0 (best accuracy for structured pruning)\n",
        "model = models.efficientnet_b0(weights=None)  # Training from scratch\n",
        "\n",
        "# Modify classifier for 10 EuroSAT classes\n",
        "num_classes = len(dataset.classes)\n",
        "model.classifier[1] = nn.Linear(model.classifier[1].in_features, num_classes)\n",
        "model = model.to(device)\n",
        "\n",
        "# Define Loss and Optimizer\n",
        "criterion = nn.CrossEntropyLoss()\n",
        "optimizer = torch.optim.Adam(model.parameters(), lr=0.001)\n",
        "\n",
        "# Training function\n",
        "def train_model(model, dataloader, optimizer, criterion, epochs=5):\n",
        "    model.train()\n",
        "    for epoch in range(epochs):\n",
        "        total_loss, correct, total = 0, 0, 0\n",
        "        for images, labels in dataloader:\n",
        "            images, labels = images.to(device), labels.to(device)\n",
        "\n",
        "            optimizer.zero_grad()\n",
        "            outputs = model(images)\n",
        "            loss = criterion(outputs, labels)\n",
        "            loss.backward()\n",
        "            optimizer.step()\n",
        "\n",
        "            total_loss += loss.item()\n",
        "            _, predicted = torch.max(outputs, 1)\n",
        "            correct += (predicted == labels).sum().item()\n",
        "            total += labels.size(0)\n",
        "\n",
        "        print(f\"Epoch {epoch+1}, Loss: {total_loss/len(dataloader):.4f}, Accuracy: {correct/total:.4f}\")\n",
        "\n",
        "# Train before pruning\n",
        "print(\"Training Base Model from Scratch...\")\n",
        "train_model(model, train_loader, optimizer, criterion, epochs=10)\n",
        "\n",
        "# ----------------- STRUCTURED PRUNING -----------------\n",
        "\n",
        "def prune_model(model, amount=0.3):\n",
        "    \"\"\"\n",
        "    Apply structured pruning (L1 Norm based) on convolutional layers.\n",
        "    Removes `amount` of least important filters per layer.\n",
        "    \"\"\"\n",
        "    for name, module in model.named_modules():\n",
        "        if isinstance(module, nn.Conv2d):\n",
        "            prune.ln_structured(module, name='weight', amount=amount, n=1, dim=0)  # L1 Norm Pruning\n",
        "            prune.remove(module, 'weight')  # Make pruning permanent\n",
        "    return model\n",
        "\n",
        "# Apply structured pruning (30% of filters)\n",
        "print(\"Applying Structured Pruning...\")\n",
        "pruned_model = prune_model(model, amount=0.3)\n",
        "\n",
        "# Fine-tune after pruning\n",
        "print(\"Fine-tuning Pruned Model...\")\n",
        "train_model(pruned_model, train_loader, optimizer, criterion, epochs=5)\n",
        "\n",
        "# Evaluate the model\n",
        "def evaluate_model(model, dataloader):\n",
        "    model.eval()\n",
        "    correct, total = 0, 0\n",
        "    with torch.no_grad():\n",
        "        for images, labels in dataloader:\n",
        "            images, labels = images.to(device), labels.to(device)\n",
        "            outputs = model(images)\n",
        "            _, predicted = torch.max(outputs, 1)\n",
        "            correct += (predicted == labels).sum().item()\n",
        "            total += labels.size(0)\n",
        "    return correct / total\n",
        "\n",
        "# Evaluate on validation set\n",
        "accuracy = evaluate_model(pruned_model, val_loader)\n",
        "print(f\"Final Pruned Model Accuracy: {accuracy:.4f}\")\n"
      ]
    }
  ]
}