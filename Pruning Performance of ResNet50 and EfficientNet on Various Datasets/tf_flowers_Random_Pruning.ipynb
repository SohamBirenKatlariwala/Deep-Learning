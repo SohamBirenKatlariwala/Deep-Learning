{
  "nbformat": 4,
  "nbformat_minor": 0,
  "metadata": {
    "colab": {
      "provenance": [],
      "gpuType": "T4"
    },
    "kernelspec": {
      "name": "python3",
      "display_name": "Python 3"
    },
    "language_info": {
      "name": "python"
    },
    "accelerator": "GPU"
  },
  "cells": [
    {
      "cell_type": "code",
      "source": [
        "!pip install tensorflow-model-optimization\n",
        "import tensorflow as tf\n",
        "import tensorflow_datasets as tfds\n",
        "import tensorflow_model_optimization as tfmot"
      ],
      "metadata": {
        "colab": {
          "base_uri": "https://localhost:8080/"
        },
        "id": "SLhPw8EH6w4v",
        "outputId": "b48a3545-aa39-47af-f1ca-ea756437e5a1"
      },
      "execution_count": 3,
      "outputs": [
        {
          "output_type": "stream",
          "name": "stdout",
          "text": [
            "Requirement already satisfied: tensorflow-model-optimization in /usr/local/lib/python3.11/dist-packages (0.8.0)\n",
            "Requirement already satisfied: absl-py~=1.2 in /usr/local/lib/python3.11/dist-packages (from tensorflow-model-optimization) (1.4.0)\n",
            "Requirement already satisfied: dm-tree~=0.1.1 in /usr/local/lib/python3.11/dist-packages (from tensorflow-model-optimization) (0.1.9)\n",
            "Requirement already satisfied: numpy~=1.23 in /usr/local/lib/python3.11/dist-packages (from tensorflow-model-optimization) (1.26.4)\n",
            "Requirement already satisfied: six~=1.14 in /usr/local/lib/python3.11/dist-packages (from tensorflow-model-optimization) (1.17.0)\n",
            "Requirement already satisfied: attrs>=18.2.0 in /usr/local/lib/python3.11/dist-packages (from dm-tree~=0.1.1->tensorflow-model-optimization) (25.1.0)\n",
            "Requirement already satisfied: wrapt>=1.11.2 in /usr/local/lib/python3.11/dist-packages (from dm-tree~=0.1.1->tensorflow-model-optimization) (1.17.2)\n"
          ]
        }
      ]
    },
    {
      "cell_type": "code",
      "source": [
        "# Load the TF Flowers dataset\n",
        "dataset, info = tfds.load(\"tf_flowers\", as_supervised=True, with_info=True)\n",
        "num_classes = info.features['label'].num_classes\n",
        "\n",
        "def preprocess(image, label):\n",
        "    image = tf.image.resize(image, (224, 224)) / 255.0  # Normalize\n",
        "    return image, label\n",
        "\n",
        "# Prepare training and validation datasets\n",
        "train_data = dataset['train'].map(preprocess).batch(32).shuffle(1000).prefetch(tf.data.AUTOTUNE)\n",
        "val_data = dataset['train'].map(preprocess).batch(32).prefetch(tf.data.AUTOTUNE)"
      ],
      "metadata": {
        "id": "ZKG0nUCc6zNL"
      },
      "execution_count": 4,
      "outputs": []
    },
    {
      "cell_type": "code",
      "source": [
        "# Define a simple CNN model\n",
        "base_model = tf.keras.applications.MobileNetV2(input_shape=(224, 224, 3), include_top=False, weights='imagenet')\n",
        "base_model.trainable = False\n",
        "\n",
        "model = tf.keras.Sequential([\n",
        "    base_model,\n",
        "    tf.keras.layers.GlobalAveragePooling2D(),\n",
        "    tf.keras.layers.Dense(num_classes, activation='softmax')\n",
        "])\n",
        "\n",
        "model.compile(optimizer='adam', loss='sparse_categorical_crossentropy', metrics=['accuracy'])\n",
        "\n",
        "# Train the baseline model\n",
        "model.fit(train_data, validation_data=val_data, epochs=5)\n",
        "\n",
        "# Apply random pruning\n",
        "def apply_random_pruning(model):\n",
        "    prune_low_magnitude = tfmot.sparsity.keras.prune_low_magnitude\n",
        "\n",
        "    # Define pruning parameters\n",
        "    pruning_params = {\n",
        "        'pruning_schedule': tfmot.sparsity.keras.PolynomialDecay(initial_sparsity=0.2,\n",
        "                                                                  final_sparsity=0.5,\n",
        "                                                                  begin_step=0,\n",
        "                                                                  end_step=1000)\n",
        "    }\n",
        "\n",
        "    pruned_model = prune_low_magnitude(model, **pruning_params)\n",
        "    return pruned_model\n",
        "\n",
        "# Apply pruning and recompile\n",
        "pruned_model = apply_random_pruning(model)\n",
        "pruned_model.compile(optimizer='adam', loss='sparse_categorical_crossentropy', metrics=['accuracy'])\n",
        "\n",
        "# Add the UpdatePruningStep callback\n",
        "callbacks = [tfmot.sparsity.keras.UpdatePruningStep()]\n",
        "\n",
        "# Fine-tune pruned model with the callback\n",
        "pruned_model.fit(train_data,\n",
        "                  validation_data=val_data,\n",
        "                  epochs=5,\n",
        "                  callbacks=callbacks)  # Pass the callbacks here"
      ],
      "metadata": {
        "colab": {
          "base_uri": "https://localhost:8080/"
        },
        "id": "HqnWt7pM69XL",
        "outputId": "10a4bf5f-ff73-4562-e0f6-43db5df89aee"
      },
      "execution_count": 5,
      "outputs": [
        {
          "output_type": "stream",
          "name": "stdout",
          "text": [
            "Epoch 1/5\n",
            "115/115 [==============================] - 29s 90ms/step - loss: 0.7497 - accuracy: 0.7202 - val_loss: 0.4102 - val_accuracy: 0.8591\n",
            "Epoch 2/5\n",
            "115/115 [==============================] - 11s 82ms/step - loss: 0.3865 - accuracy: 0.8700 - val_loss: 0.3065 - val_accuracy: 0.9033\n",
            "Epoch 3/5\n",
            "115/115 [==============================] - 11s 82ms/step - loss: 0.3035 - accuracy: 0.9019 - val_loss: 0.2545 - val_accuracy: 0.9218\n",
            "Epoch 4/5\n",
            "115/115 [==============================] - 11s 72ms/step - loss: 0.2611 - accuracy: 0.9147 - val_loss: 0.2258 - val_accuracy: 0.9346\n",
            "Epoch 5/5\n",
            "115/115 [==============================] - 11s 82ms/step - loss: 0.2275 - accuracy: 0.9286 - val_loss: 0.1930 - val_accuracy: 0.9458\n",
            "Epoch 1/5\n",
            "115/115 [==============================] - 58s 169ms/step - loss: 0.2841 - accuracy: 0.9079 - val_loss: 0.6193 - val_accuracy: 0.7755\n",
            "Epoch 2/5\n",
            "115/115 [==============================] - 15s 115ms/step - loss: 0.4842 - accuracy: 0.8191 - val_loss: 0.5237 - val_accuracy: 0.8114\n",
            "Epoch 3/5\n",
            "115/115 [==============================] - 16s 125ms/step - loss: 0.5909 - accuracy: 0.7804 - val_loss: 0.5614 - val_accuracy: 0.7959\n",
            "Epoch 4/5\n",
            "115/115 [==============================] - 15s 114ms/step - loss: 0.6729 - accuracy: 0.7561 - val_loss: 0.6626 - val_accuracy: 0.7545\n",
            "Epoch 5/5\n",
            "115/115 [==============================] - 15s 114ms/step - loss: 0.7457 - accuracy: 0.7218 - val_loss: 0.6996 - val_accuracy: 0.7357\n"
          ]
        },
        {
          "output_type": "execute_result",
          "data": {
            "text/plain": [
              "<tf_keras.src.callbacks.History at 0x7859b6723f90>"
            ]
          },
          "metadata": {},
          "execution_count": 5
        }
      ]
    },
    {
      "cell_type": "code",
      "source": [
        "# Evaluate pruned model\n",
        "_, pruned_acc = pruned_model.evaluate(val_data)\n",
        "print(f\"Pruned Model Accuracy: {pruned_acc:.4f}\")"
      ],
      "metadata": {
        "colab": {
          "base_uri": "https://localhost:8080/"
        },
        "id": "49lizxhJ6-C9",
        "outputId": "af35ce15-73ac-4469-dbf8-b15c020d0041"
      },
      "execution_count": 6,
      "outputs": [
        {
          "output_type": "stream",
          "name": "stdout",
          "text": [
            "115/115 [==============================] - 5s 39ms/step - loss: 0.6996 - accuracy: 0.7357\n",
            "Pruned Model Accuracy: 0.7357\n"
          ]
        }
      ]
    }
  ]
}