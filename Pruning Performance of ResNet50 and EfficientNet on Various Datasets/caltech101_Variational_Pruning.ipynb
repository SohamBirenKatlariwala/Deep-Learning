{
  "nbformat": 4,
  "nbformat_minor": 0,
  "metadata": {
    "colab": {
      "provenance": [],
      "gpuType": "T4"
    },
    "kernelspec": {
      "name": "python3",
      "display_name": "Python 3"
    },
    "language_info": {
      "name": "python"
    },
    "accelerator": "GPU"
  },
  "cells": [
    {
      "cell_type": "code",
      "execution_count": 2,
      "metadata": {
        "colab": {
          "base_uri": "https://localhost:8080/"
        },
        "id": "t6ElJ8nHQ6WE",
        "outputId": "a6b88ff2-f800-47db-87da-f6df1a729084"
      },
      "outputs": [
        {
          "output_type": "stream",
          "name": "stdout",
          "text": [
            "Files already downloaded and verified\n"
          ]
        },
        {
          "output_type": "stream",
          "name": "stderr",
          "text": [
            "/usr/local/lib/python3.11/dist-packages/torchvision/models/_utils.py:208: UserWarning: The parameter 'pretrained' is deprecated since 0.13 and may be removed in the future, please use 'weights' instead.\n",
            "  warnings.warn(\n",
            "/usr/local/lib/python3.11/dist-packages/torchvision/models/_utils.py:223: UserWarning: Arguments other than a weight enum or `None` for 'weights' are deprecated since 0.13 and may be removed in the future. The current behavior is equivalent to passing `weights=ResNet50_Weights.IMAGENET1K_V1`. You can also use `weights=ResNet50_Weights.DEFAULT` to get the most up-to-date weights.\n",
            "  warnings.warn(msg)\n"
          ]
        },
        {
          "output_type": "stream",
          "name": "stdout",
          "text": [
            "Epoch [1/15], Loss: 0.9923\n",
            "Epoch [2/15], Loss: 1.2376\n",
            "Epoch [3/15], Loss: 0.6969\n",
            "Epoch [4/15], Loss: 0.1419\n",
            "Epoch [5/15], Loss: 0.3612\n",
            "Epoch [6/15], Loss: 0.2825\n",
            "Epoch [7/15], Loss: 0.0357\n",
            "Epoch [8/15], Loss: 0.0460\n",
            "Epoch [9/15], Loss: 0.0769\n",
            "Epoch [10/15], Loss: 0.3764\n",
            "Epoch [11/15], Loss: 0.3040\n",
            "Epoch [12/15], Loss: 0.1145\n",
            "Epoch [13/15], Loss: 0.1168\n",
            "Epoch [14/15], Loss: 0.1113\n",
            "Epoch [15/15], Loss: 0.4297\n"
          ]
        }
      ],
      "source": [
        "import torch\n",
        "import torch.nn as nn\n",
        "import torchvision.models as models\n",
        "import torchvision.transforms as transforms\n",
        "import torchvision.datasets as datasets\n",
        "from torch.utils.data import DataLoader\n",
        "import torch.nn.functional as F\n",
        "from PIL import Image # Import PIL library\n",
        "\n",
        "# Load Caltech101 dataset\n",
        "transform = transforms.Compose([\n",
        "    transforms.Resize((224, 224)),\n",
        "    transforms.Lambda(lambda image: image.convert(\"RGB\")),  # Convert to RGB\n",
        "    transforms.RandomHorizontalFlip(),\n",
        "    transforms.RandomRotation(15),\n",
        "    transforms.ToTensor(),\n",
        "    transforms.Normalize(mean=[0.485, 0.456, 0.406], std=[0.229, 0.224, 0.225])\n",
        "])\n",
        "\n",
        "train_dataset = datasets.Caltech101(root=\"./data\", download=True, transform=transform)\n",
        "train_loader = DataLoader(train_dataset, batch_size=32, shuffle=True)\n",
        "\n",
        "# Define Variational Pruning Layer\n",
        "class VariationalPruneLayer(nn.Module):\n",
        "    def __init__(self, in_features, out_features):\n",
        "        super().__init__()\n",
        "        self.weight_mu = nn.Parameter(torch.Tensor(out_features, in_features))\n",
        "        self.weight_rho = nn.Parameter(torch.Tensor(out_features, in_features))\n",
        "        self.bias = nn.Parameter(torch.Tensor(out_features))\n",
        "        self.reset_parameters()\n",
        "\n",
        "    def reset_parameters(self):\n",
        "        nn.init.kaiming_normal_(self.weight_mu)\n",
        "        nn.init.constant_(self.weight_rho, -5)\n",
        "        nn.init.constant_(self.bias, 0)\n",
        "\n",
        "    def forward(self, x):\n",
        "        weight_sigma = torch.log1p(torch.exp(self.weight_rho))  # Ensure positivity\n",
        "        weight_sample = self.weight_mu + weight_sigma * torch.randn_like(self.weight_mu)\n",
        "        return F.linear(x, weight_sample, self.bias)\n",
        "\n",
        "# Load Pretrained ResNet-50 and Modify Last Layer\n",
        "device = torch.device(\"cuda\" if torch.cuda.is_available() else \"cpu\")\n",
        "model = models.resnet50(pretrained=True)\n",
        "\n",
        "# Replace last fully connected layer with Variational Pruning Layer\n",
        "in_features = model.fc.in_features\n",
        "model.fc = VariationalPruneLayer(in_features, 101)  # 101 classes in Caltech101\n",
        "model = model.to(device)\n",
        "\n",
        "# Training Setup\n",
        "criterion = nn.CrossEntropyLoss()\n",
        "optimizer = torch.optim.Adam(model.parameters(), lr=0.0001)\n",
        "\n",
        "# Train Model\n",
        "for epoch in range(15):  # Train for 15 epochs\n",
        "    model.train()\n",
        "    for images, labels in train_loader:\n",
        "        images, labels = images.to(device), labels.to(device)\n",
        "        optimizer.zero_grad()\n",
        "        outputs = model(images)\n",
        "        loss = criterion(outputs, labels)\n",
        "        loss.backward()\n",
        "        optimizer.step()\n",
        "    print(f\"Epoch [{epoch+1}/15], Loss: {loss.item():.4f}\")\n",
        "\n",
        "# Save Model\n",
        "torch.save(model.state_dict(), \"resnet50_variational_pruning.pth\")"
      ]
    },
    {
      "cell_type": "code",
      "source": [
        "# Load Test Dataset\n",
        "test_dataset = datasets.Caltech101(root=\"./data\", download=True, transform=transform)\n",
        "test_loader = DataLoader(test_dataset, batch_size=32, shuffle=False)\n",
        "\n",
        "# Evaluate Model\n",
        "model.eval()\n",
        "correct = 0\n",
        "total = 0\n",
        "\n",
        "with torch.no_grad():\n",
        "    for images, labels in test_loader:\n",
        "        images, labels = images.to(device), labels.to(device)\n",
        "        outputs = model(images)\n",
        "        _, predicted = torch.max(outputs, 1)\n",
        "        total += labels.size(0)\n",
        "        correct += (predicted == labels).sum().item()\n",
        "\n",
        "accuracy = 100 * correct / total\n",
        "print(f\"Final Accuracy: {accuracy:.2f}%\")"
      ],
      "metadata": {
        "colab": {
          "base_uri": "https://localhost:8080/"
        },
        "id": "tyQTgEGQWl2p",
        "outputId": "4c363409-e2c0-45e3-a83b-83e0e4e3efb4"
      },
      "execution_count": 3,
      "outputs": [
        {
          "output_type": "stream",
          "name": "stdout",
          "text": [
            "Files already downloaded and verified\n",
            "Final Accuracy: 99.31%\n"
          ]
        }
      ]
    }
  ]
}
